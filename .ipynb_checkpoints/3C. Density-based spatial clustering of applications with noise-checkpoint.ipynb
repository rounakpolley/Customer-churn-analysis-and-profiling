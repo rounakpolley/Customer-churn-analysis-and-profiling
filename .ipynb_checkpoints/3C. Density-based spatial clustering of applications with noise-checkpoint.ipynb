{
 "cells": [
  {
   "cell_type": "markdown",
   "metadata": {
    "collapsed": true
   },
   "source": [
    "### Density-based spatial clustering of applications with noise (DBSCAN)\n",
    "\n",
    "Differs from K-means in a few important ways: \n",
    "* DBSCAN does not require the analyst to select the number of clusters a priori — the algorithm determines this based on the parameters it's given. \n",
    "* It excels at clustering non-spherical data. \n",
    "* It does not force every data point into a cluster — if a data point lies outside of the specified starting parameters, it will be classified as **\"noise\" and not included in any resulting cluster**.\n",
    "---------\n",
    "DBSCAN looks at each data point individually. DBSCAN relies on two parameters:\n",
    "* **Epsilon, or \"eps,\":** A measure of radial distance extending from a data point. A larger epsilon means a larger distance from a data point is considered when determining if another data point should be considered in its \"neighborhood\" and vice versa.\n",
    "* **Minimum points:** The number of other data points within a data point's \"neighborhood\" for it to be considered a \"core\" data point.\n",
    "Data point that has neither the minimum number of data points in its neighborhood nor does it fall within a core data point's neighborhood and is thus labeled as \"noise.\"\n",
    "---\n",
    "An evolved version of DBSCAN, called **\"HDBSCAN\"** (the H for \"hierarchical\")\n",
    "* Attempts to allow for clusters of differing variances and densities. \n",
    "* HDBSCAN really only requires us to provide one parameter: **minimum cluster size**.\n",
    "* Every data point starts as part of its own cluster and iteratively clusters with the next nearest data points until all data points are clustered together. The minimum cluster size parameter allows us to toss out clusters below this threshold.\n",
    "\n",
    "### It's more intuitive from a business standpoint to determine what size a cluster/segment needs to be in order for it to be considered \"actionable\" "
   ]
  },
  {
   "cell_type": "code",
   "execution_count": null,
   "metadata": {
    "collapsed": true
   },
   "outputs": [],
   "source": [
    "import pandas as pd\n",
    "import numpy as np\n",
    "import matplotlib.pyplot as plt\n",
    "\n",
    "from collections import Counter\n",
    "from itertools import combinations \n",
    "\n",
    "from sklearn import metrics\n",
    "from sklearn.preprocessing import scale\n",
    "from sklearn.preprocessing import StandardScaler\n",
    "from sklearn.cluster import DBSCAN"
   ]
  },
  {
   "cell_type": "code",
   "execution_count": 2,
   "metadata": {
    "collapsed": true
   },
   "outputs": [],
   "source": [
    "df1           = pd.read_pickle(\"./ds1_trans.pkl\")\n",
    "df2           = pd.read_pickle(\"./ds2_trans.pkl\")\n",
    "df1_churn     = pd.read_pickle(\"./df1_churn.pkl\")\n",
    "df2_churn     = pd.read_pickle(\"./df2_churn.pkl\")\n",
    "df1_not_churn = pd.read_pickle(\"./df1_not_churn.pkl\")\n",
    "df2_not_churn = pd.read_pickle(\"./df2_not_churn.pkl\")"
   ]
  },
  {
   "cell_type": "code",
   "execution_count": 3,
   "metadata": {
    "collapsed": true
   },
   "outputs": [],
   "source": [
    "db = DBSCAN(eps=0.3, min_samples=10).fit(df1)\n"
   ]
  },
  {
   "cell_type": "code",
   "execution_count": 1,
   "metadata": {},
   "outputs": [
    {
     "ename": "ModuleNotFoundError",
     "evalue": "No module named 'hdbscan'",
     "output_type": "error",
     "traceback": [
      "\u001b[1;31m---------------------------------------------------------------------------\u001b[0m",
      "\u001b[1;31mModuleNotFoundError\u001b[0m                       Traceback (most recent call last)",
      "\u001b[1;32m<ipython-input-1-eedf3f473a74>\u001b[0m in \u001b[0;36m<module>\u001b[1;34m()\u001b[0m\n\u001b[1;32m----> 1\u001b[1;33m \u001b[1;32mimport\u001b[0m \u001b[0mhdbscan\u001b[0m\u001b[1;33m\u001b[0m\u001b[0m\n\u001b[0m\u001b[0;32m      2\u001b[0m \u001b[1;33m\u001b[0m\u001b[0m\n\u001b[0;32m      3\u001b[0m \u001b[0mclust_count\u001b[0m \u001b[1;33m=\u001b[0m \u001b[0mnp\u001b[0m\u001b[1;33m.\u001b[0m\u001b[0mlinspace\u001b[0m\u001b[1;33m(\u001b[0m\u001b[1;36m1\u001b[0m\u001b[1;33m,\u001b[0m \u001b[1;36m20\u001b[0m\u001b[1;33m,\u001b[0m \u001b[0mnum\u001b[0m\u001b[1;33m=\u001b[0m\u001b[1;36m20\u001b[0m\u001b[1;33m,\u001b[0m \u001b[0mdtype\u001b[0m\u001b[1;33m=\u001b[0m\u001b[1;34m'int'\u001b[0m\u001b[1;33m)\u001b[0m\u001b[1;33m\u001b[0m\u001b[0m\n\u001b[0;32m      4\u001b[0m \u001b[1;33m\u001b[0m\u001b[0m\n\u001b[0;32m      5\u001b[0m \u001b[0mclust_number\u001b[0m \u001b[1;33m=\u001b[0m \u001b[1;36m2\u001b[0m\u001b[1;33m\u001b[0m\u001b[0m\n",
      "\u001b[1;31mModuleNotFoundError\u001b[0m: No module named 'hdbscan'"
     ]
    }
   ],
   "source": [
    "import hdbscan\n",
    "\n",
    "clust_count = np.linspace(1, 20, num=20, dtype='int')\n",
    "\n",
    "clust_number = 2\n",
    "plot_number = 1\n",
    "plt.figure (figsize=(17,12))\n",
    "while clust_number < 21:\n",
    "    hdb = hdbscan.HDBSCAN(min_cluster_size=clust_number)\n",
    "    hdb_pred = hdb.fit(unbal)\n",
    "    plt.subplot(5, 4, plot_number, title = 'Min. Cluster Size = {}'.format(clust_number))\n",
    "    plt.scatter(unbal[:,0], unbal[:,1], c=hdb_pred.labels_, cmap=cmap)\n",
    "    plot_number += 1\n",
    "    clust_number += 1\n",
    "\n",
    "plt.tight_layout()"
   ]
  },
  {
   "cell_type": "code",
   "execution_count": null,
   "metadata": {
    "collapsed": true
   },
   "outputs": [],
   "source": []
  },
  {
   "cell_type": "code",
   "execution_count": null,
   "metadata": {
    "collapsed": true
   },
   "outputs": [],
   "source": []
  }
 ],
 "metadata": {
  "kernelspec": {
   "display_name": "Python 3",
   "language": "python",
   "name": "python3"
  },
  "language_info": {
   "codemirror_mode": {
    "name": "ipython",
    "version": 3
   },
   "file_extension": ".py",
   "mimetype": "text/x-python",
   "name": "python",
   "nbconvert_exporter": "python",
   "pygments_lexer": "ipython3",
   "version": "3.6.2"
  }
 },
 "nbformat": 4,
 "nbformat_minor": 2
}
