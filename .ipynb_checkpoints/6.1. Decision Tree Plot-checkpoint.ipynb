{
 "cells": [
  {
   "cell_type": "code",
   "execution_count": 1,
   "metadata": {
    "collapsed": true
   },
   "outputs": [],
   "source": [
    "import pandas as pd\n",
    "import numpy as np\n",
    "from sklearn.tree import DecisionTreeClassifier\n",
    "from sklearn.tree import export_graphviz\n",
    "from sklearn import tree\n",
    "from sklearn.datasets import load_wine\n",
    "from IPython.display import SVG\n",
    "from IPython.display import display"
   ]
  },
  {
   "cell_type": "code",
   "execution_count": 3,
   "metadata": {
    "collapsed": true
   },
   "outputs": [],
   "source": [
    "#Install graphviz\n",
    "#conda install python-graphviz\n",
    "from graphviz import Source  \n",
    "\n",
    "#Install ipywidgets\n",
    "#conda install -c conda-forge ipywidgets\n",
    "from ipywidgets import interactive"
   ]
  },
  {
   "cell_type": "code",
   "execution_count": 4,
   "metadata": {},
   "outputs": [
    {
     "name": "stdout",
     "output_type": "stream",
     "text": [
      "2644 689 || 5605 1416\n"
     ]
    }
   ],
   "source": [
    "df1_train = pd.read_pickle(\"./df1_train.pkl\")\n",
    "df1_test  = pd.read_pickle(\"./df1_test.pkl\")\n",
    "\n",
    "df2_train = pd.read_pickle(\"./df2_train.pkl\")\n",
    "df2_test  = pd.read_pickle(\"./df2_test.pkl\")\n",
    "print(str(len(df1_train))+\" \"+str(len(df1_test))+\" || \"+str(len(df2_train))+\" \"+str(len(df2_test)))"
   ]
  },
  {
   "cell_type": "code",
   "execution_count": 17,
   "metadata": {},
   "outputs": [
    {
     "data": {
      "application/vnd.jupyter.widget-view+json": {
       "model_id": "d5ea1fb04d064f098121ff856e1255c1",
       "version_major": 2,
       "version_minor": 0
      },
      "text/plain": [
       "A Jupyter Widget"
      ]
     },
     "metadata": {},
     "output_type": "display_data"
    }
   ],
   "source": [
    "# feature matrix X = data.data\n",
    "# target vector y = data.target\n",
    "X = df1_train.iloc[:,:-1]\n",
    "y = df1_train.iloc[:,-1:]\n",
    "# class labels\n",
    "labels = df1_train.columns[:-1]\n",
    "\n",
    "def plot_tree(crit, split, depth, min_split, min_leaf=0.2):\n",
    "    estimator = DecisionTreeClassifier(random_state = 0 , criterion = crit , splitter = split , max_depth = depth , min_samples_split=min_split , min_samples_leaf=min_leaf)\n",
    "    estimator.fit(X, y)\n",
    "    graph = Source(tree.export_graphviz(estimator , out_file=None , feature_names=labels , class_names=['0', '1'] , filled = True))\n",
    "   \n",
    "    display(SVG(graph.pipe(format='svg')))\n",
    "    \n",
    "    #estimator.predict(X_train)\n",
    "    \n",
    "    \n",
    "    return estimator\n",
    "\n",
    "inter=interactive(plot_tree , crit = [\"gini\", \"entropy\"] , split = [\"best\", \"random\"] , depth=[1,2,3,4,5,6,7,8,9,10,11,12,13,14,15,16,17,18,19,20,21] , min_split=(0.1,1) , min_leaf=(0.1,0.5))\n",
    "\n",
    "display(inter)"
   ]
  },
  {
   "cell_type": "code",
   "execution_count": null,
   "metadata": {
    "collapsed": true
   },
   "outputs": [],
   "source": []
  }
 ],
 "metadata": {
  "kernelspec": {
   "display_name": "Python 3",
   "language": "python",
   "name": "python3"
  },
  "language_info": {
   "codemirror_mode": {
    "name": "ipython",
    "version": 3
   },
   "file_extension": ".py",
   "mimetype": "text/x-python",
   "name": "python",
   "nbconvert_exporter": "python",
   "pygments_lexer": "ipython3",
   "version": "3.6.2"
  }
 },
 "nbformat": 4,
 "nbformat_minor": 2
}
