{
 "cells": [
  {
   "cell_type": "markdown",
   "metadata": {
    "collapsed": true
   },
   "source": [
    "**GMMs fit a number of normal distributions to our data set by estimating their parameters using what's called expectation maximization. This is a two-step iterative algorithm (in some ways similar to K-means):**\n",
    "\n",
    "* **Expectation:** Generate a number of distributions with reasonable parameters (mean and variance) based on the given data, then \"ask\" every data point how likely is it to fall within each. As with K-means, you need to specify the number of clusters — or in this case, we call them \"components\" — a priori.\n",
    "\n",
    "* **Maximization:** Iterate and update our distribution parameters to maximize the data points' likelihood of being assigned to the most probable cluster.\n",
    "-------------------------------\n",
    "* Pros: GMM allows data to vary anisotropically and provides probability estimates of cluster membership rather than \"hard labeling\" data points like K-means.\n",
    "\n",
    "* Cons: GMM still assumes normal distributions across dimensions and requires the number of components/clusters are specified a priori.\n",
    "\n",
    "**Both K-means and GMMs include every data point in a cluster no matter how far away it is from the nearest centroid.**\n",
    "\n",
    "In a real world dataset (being used for customer segmentation) there is bound to be **outliners** and both K-Means and GMMs fail to detect those thus their clusters contain **Noise**"
   ]
  },
  {
   "cell_type": "code",
   "execution_count": null,
   "metadata": {
    "collapsed": true
   },
   "outputs": [],
   "source": [
    "import pandas as pd\n",
    "import numpy as np\n",
    "import matplotlib.pyplot as plt\n",
    "\n",
    "from collections import Counter\n",
    "from itertools import combinations \n",
    "from sklearn.cluster import MeanShift\n",
    "from sklearn.preprocessing import scale"
   ]
  },
  {
   "cell_type": "code",
   "execution_count": null,
   "metadata": {
    "collapsed": true
   },
   "outputs": [],
   "source": [
    "from sklearn.mixture import GaussianMixture\n",
    "\n",
    "#Predict GMM cluster membership\n",
    "gm_messy = GaussianMixture(n_components=3).fit(x_messy).predict(x_messy)\n",
    "\n",
    "plt.figure(figsize=(15,8))\n",
    "plt.subplot(121, title='\"Messy\" K-Means')\n",
    "plt.scatter(x_messy[:,0], x_messy[:,1], c=km_messy, cmap=cmap)\n",
    "plt.subplot(122, title='\"Messy\" GMM')\n",
    "plt.scatter(x_messy[:,0], x_messy[:,1], c=gm_messy, cmap=cmap)"
   ]
  },
  {
   "cell_type": "code",
   "execution_count": null,
   "metadata": {
    "collapsed": true
   },
   "outputs": [],
   "source": []
  },
  {
   "cell_type": "code",
   "execution_count": null,
   "metadata": {
    "collapsed": true
   },
   "outputs": [],
   "source": []
  },
  {
   "cell_type": "code",
   "execution_count": null,
   "metadata": {
    "collapsed": true
   },
   "outputs": [],
   "source": []
  }
 ],
 "metadata": {
  "kernelspec": {
   "display_name": "Python 3",
   "language": "python",
   "name": "python3"
  },
  "language_info": {
   "codemirror_mode": {
    "name": "ipython",
    "version": 3
   },
   "file_extension": ".py",
   "mimetype": "text/x-python",
   "name": "python",
   "nbconvert_exporter": "python",
   "pygments_lexer": "ipython3",
   "version": "3.6.2"
  }
 },
 "nbformat": 4,
 "nbformat_minor": 2
}
