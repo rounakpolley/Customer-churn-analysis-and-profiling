{
 "cells": [
  {
   "cell_type": "code",
   "execution_count": 1,
   "metadata": {},
   "outputs": [
    {
     "name": "stdout",
     "output_type": "stream",
     "text": [
      "2661 672\n"
     ]
    }
   ],
   "source": [
    "import pandas as pd\n",
    "import numpy as np\n",
    "from collections import Counter\n",
    "from itertools import combinations\n",
    "\n",
    "from sklearn.linear_model import LogisticRegression\n",
    "\n",
    "from sklearn import metrics\n",
    "from sklearn.preprocessing import StandardScaler\n",
    "\n",
    "df1_train = pd.read_pickle(\"./df1_reduced_train.pkl\")\n",
    "df1_test  = pd.read_pickle(\"./df1_reduced_test.pkl\")\n",
    "\n",
    "print(str(len(df1_train))+\" \"+str(len(df1_test)))"
   ]
  },
  {
   "cell_type": "code",
   "execution_count": 5,
   "metadata": {},
   "outputs": [],
   "source": [
    "def get_data(col_names):    #col_names : list\n",
    "    col_names     = col_names + ['churn']\n",
    "    df_train      = df1_train[col_names]\n",
    "    df_test       = df1_test[col_names]\n",
    "    X_train       = df_train.iloc[:,:-1]\n",
    "    y_train       = df_train.iloc[:,-1:]\n",
    "    X_test        = df_test.iloc[:,:-1]\n",
    "    y_test        = df_test.iloc[:,-1:]\n",
    "    \n",
    "    scaler        = StandardScaler()\n",
    "    scaler.fit(X_train)                                       \n",
    "    X_train       = scaler.transform(X_train)\n",
    "    X_test        = scaler.transform(X_test)\n",
    "    \n",
    "    return X_train, y_train, X_test, y_test"
   ]
  },
  {
   "cell_type": "code",
   "execution_count": 11,
   "metadata": {
    "scrolled": true
   },
   "outputs": [
    {
     "name": "stdout",
     "output_type": "stream",
     "text": [
      "********************************************            1\n",
      "0.845238095238\n",
      "['account length']\n",
      "0.848214285714\n",
      "['customer service calls']\n",
      "********************************************            2\n",
      "0.85119047619\n",
      "['international plan', 'total day charge']\n",
      "0.855654761905\n",
      "['international plan', 'total intl calls']\n"
     ]
    },
    {
     "name": "stderr",
     "output_type": "stream",
     "text": [
      "F:\\Anaconda3\\lib\\site-packages\\sklearn\\utils\\validation.py:547: DataConversionWarning: A column-vector y was passed when a 1d array was expected. Please change the shape of y to (n_samples, ), for example using ravel().\n",
      "  y = column_or_1d(y, warn=True)\n"
     ]
    },
    {
     "name": "stdout",
     "output_type": "stream",
     "text": [
      "********************************************            3\n",
      "0.860119047619\n",
      "['international plan', 'number vmail messages', 'total intl calls']\n",
      "********************************************            4\n",
      "0.864583333333\n",
      "['international plan', 'number vmail messages', 'total day charge', 'customer service calls']\n",
      "********************************************            5\n",
      "0.86755952381\n",
      "['area code', 'international plan', 'number vmail messages', 'total day charge', 'customer service calls']\n",
      "********************************************            6\n",
      "0.869047619048\n",
      "['area code', 'international plan', 'number vmail messages', 'total day charge', 'total eve calls', 'customer service calls']\n",
      "********************************************            7\n",
      "********************************************            8\n",
      "********************************************            9\n",
      "********************************************            10\n",
      "********************************************            11\n",
      "********************************************            12\n",
      "********************************************            13\n",
      "#####################################################################################\n",
      "['area code', 'international plan', 'number vmail messages', 'total day charge', 'total eve calls', 'customer service calls']\n",
      "0.869047619048\n"
     ]
    }
   ],
   "source": [
    "max_accuracy = 0\n",
    "selected_col = []\n",
    "for i in range(1,14):    \n",
    "    print(\"********************************************           \",str(i))\n",
    "    col_comb = list(combinations(df1_train.columns[:-1], i))\n",
    "    for j in range(len(col_comb)):\n",
    "        col_names      = list(col_comb[j])\n",
    "        ij_X_train, ij_y_train, ij_X_test, ij_y_test = get_data(col_names)\n",
    "        logreg         = LogisticRegression().fit(ij_X_train,ij_y_train)\n",
    "        ij_y_pred_test = logreg.predict(ij_X_test)\n",
    "        accuracy       = metrics.accuracy_score(ij_y_test, ij_y_pred_test)\n",
    "        if(accuracy > max_accuracy):\n",
    "            max_accuracy = accuracy\n",
    "            selected_col = col_names\n",
    "            print(max_accuracy)\n",
    "            print(selected_col)\n",
    "        \n",
    "print(\"#####################################################################################\")\n",
    "print(selected_col)\n",
    "print(max_accuracy)"
   ]
  },
  {
   "cell_type": "code",
   "execution_count": 12,
   "metadata": {},
   "outputs": [
    {
     "name": "stderr",
     "output_type": "stream",
     "text": [
      "F:\\Anaconda3\\lib\\site-packages\\sklearn\\utils\\validation.py:547: DataConversionWarning: A column-vector y was passed when a 1d array was expected. Please change the shape of y to (n_samples, ), for example using ravel().\n",
      "  y = column_or_1d(y, warn=True)\n"
     ]
    },
    {
     "data": {
      "text/plain": [
       "0.8616071428571429"
      ]
     },
     "execution_count": 12,
     "metadata": {},
     "output_type": "execute_result"
    }
   ],
   "source": [
    "X_train, y_train, X_test, y_test = get_data(list(df1_train.columns[:-1]))\n",
    "logreg      = LogisticRegression().fit(X_train,y_train)\n",
    "y_pred_test = logreg.predict(X_test)\n",
    "metrics.accuracy_score(y_test, y_pred_test)"
   ]
  }
 ],
 "metadata": {
  "kernelspec": {
   "display_name": "Python 3",
   "language": "python",
   "name": "python3"
  },
  "language_info": {
   "codemirror_mode": {
    "name": "ipython",
    "version": 3
   },
   "file_extension": ".py",
   "mimetype": "text/x-python",
   "name": "python",
   "nbconvert_exporter": "python",
   "pygments_lexer": "ipython3",
   "version": "3.6.2"
  }
 },
 "nbformat": 4,
 "nbformat_minor": 2
}
