{
 "cells": [
  {
   "cell_type": "code",
   "execution_count": 1,
   "metadata": {
    "collapsed": true
   },
   "outputs": [],
   "source": [
    "import pandas as pd\n",
    "import numpy as np\n",
    "import matplotlib.pyplot as plt"
   ]
  },
  {
   "cell_type": "code",
   "execution_count": 2,
   "metadata": {
    "collapsed": true
   },
   "outputs": [],
   "source": [
    "df1 = pd.read_pickle(\"./ds1.pkl\")\n",
    "df2 = pd.read_pickle(\"./ds2.pkl\")"
   ]
  },
  {
   "cell_type": "code",
   "execution_count": 46,
   "metadata": {},
   "outputs": [
    {
     "data": {
      "image/png": "[encoded data removed]",
      "text/plain": [
       "<matplotlib.figure.Figure at 0x1dc76a153c8>"
      ]
     },
     "metadata": {},
     "output_type": "display_data"
    }
   ],
   "source": [
    "l1 = df1.churn.value_counts().keys().tolist()\n",
    "v1 = df1.churn.value_counts().tolist()\n",
    "\n",
    "l2 = df2.Churn.value_counts().keys().tolist()\n",
    "v2 = df2.Churn.value_counts().tolist()\n",
    "\n",
    "colors = ['r', 'g']\n",
    "\n",
    "plt.subplot(1, 2, 1)\n",
    "plt.title('Dataset 1')\n",
    "plt.pie(v1, labels=l1, colors=colors, startangle=90, autopct='%.1f%%')\n",
    "plt.axis(\"equal\")\n",
    "plt.xlabel(str(len(df1))+\" no. of data items\")\n",
    "\n",
    "plt.subplot(1, 2, 2)\n",
    "plt.title('Dataset 2')\n",
    "plt.pie(v2, labels=l2, colors=colors, startangle=90, autopct='%.1f%%')\n",
    "plt.axis(\"equal\")\n",
    "plt.xlabel(str(len(df2))+\" no. of data items\")\n",
    "\n",
    "plt.show()"
   ]
  },
  {
   "cell_type": "markdown",
   "metadata": {},
   "source": [
    "So both the datasets have sufficient number of +ve i.e. intances where churn has occured\n",
    "### Now splitting the datasets"
   ]
  },
  {
   "cell_type": "code",
   "execution_count": null,
   "metadata": {
    "collapsed": true
   },
   "outputs": [],
   "source": []
  }
 ],
 "metadata": {
  "kernelspec": {
   "display_name": "Python 3",
   "language": "python",
   "name": "python3"
  },
  "language_info": {
   "codemirror_mode": {
    "name": "ipython",
    "version": 3
   },
   "file_extension": ".py",
   "mimetype": "text/x-python",
   "name": "python",
   "nbconvert_exporter": "python",
   "pygments_lexer": "ipython3",
   "version": "3.6.2"
  }
 },
 "nbformat": 4,
 "nbformat_minor": 2
}
