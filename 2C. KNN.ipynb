{
 "cells": [
  {
   "cell_type": "code",
   "execution_count": 1,
   "metadata": {
    "collapsed": true
   },
   "outputs": [],
   "source": [
    "import pandas as pd\n",
    "import numpy as np\n",
    "import matplotlib.pyplot as plt\n",
    "import seaborn as sb\n",
    "from sklearn import metrics\n",
    "import seaborn as sns\n",
    "from sklearn.preprocessing import StandardScaler \n",
    "from sklearn.neighbors import KNeighborsClassifier"
   ]
  },
  {
   "cell_type": "code",
   "execution_count": 4,
   "metadata": {},
   "outputs": [
    {
     "name": "stdout",
     "output_type": "stream",
     "text": [
      "2661 672\n"
     ]
    },
    {
     "data": {
      "text/html": [
       "<div>\n",
       "<style>\n",
       "    .dataframe thead tr:only-child th {\n",
       "        text-align: right;\n",
       "    }\n",
       "\n",
       "    .dataframe thead th {\n",
       "        text-align: left;\n",
       "    }\n",
       "\n",
       "    .dataframe tbody tr th {\n",
       "        vertical-align: top;\n",
       "    }\n",
       "</style>\n",
       "<table border=\"1\" class=\"dataframe\">\n",
       "  <thead>\n",
       "    <tr style=\"text-align: right;\">\n",
       "      <th></th>\n",
       "      <th>account length</th>\n",
       "      <th>area code</th>\n",
       "      <th>international plan</th>\n",
       "      <th>number vmail messages</th>\n",
       "      <th>total day calls</th>\n",
       "      <th>total day charge</th>\n",
       "      <th>total eve calls</th>\n",
       "      <th>total eve charge</th>\n",
       "      <th>total night calls</th>\n",
       "      <th>total night charge</th>\n",
       "      <th>total intl calls</th>\n",
       "      <th>total intl charge</th>\n",
       "      <th>customer service calls</th>\n",
       "      <th>churn</th>\n",
       "    </tr>\n",
       "    <tr>\n",
       "      <th>phone number</th>\n",
       "      <th></th>\n",
       "      <th></th>\n",
       "      <th></th>\n",
       "      <th></th>\n",
       "      <th></th>\n",
       "      <th></th>\n",
       "      <th></th>\n",
       "      <th></th>\n",
       "      <th></th>\n",
       "      <th></th>\n",
       "      <th></th>\n",
       "      <th></th>\n",
       "      <th></th>\n",
       "      <th></th>\n",
       "    </tr>\n",
       "  </thead>\n",
       "  <tbody>\n",
       "    <tr>\n",
       "      <th>0</th>\n",
       "      <td>128.0</td>\n",
       "      <td>415.0</td>\n",
       "      <td>0.0</td>\n",
       "      <td>25.0</td>\n",
       "      <td>110.0</td>\n",
       "      <td>45.07</td>\n",
       "      <td>99.0</td>\n",
       "      <td>16.78</td>\n",
       "      <td>91.0</td>\n",
       "      <td>11.01</td>\n",
       "      <td>3.0</td>\n",
       "      <td>2.70</td>\n",
       "      <td>1.0</td>\n",
       "      <td>0.0</td>\n",
       "    </tr>\n",
       "    <tr>\n",
       "      <th>1</th>\n",
       "      <td>141.0</td>\n",
       "      <td>415.0</td>\n",
       "      <td>1.0</td>\n",
       "      <td>37.0</td>\n",
       "      <td>84.0</td>\n",
       "      <td>43.96</td>\n",
       "      <td>111.0</td>\n",
       "      <td>18.87</td>\n",
       "      <td>97.0</td>\n",
       "      <td>14.69</td>\n",
       "      <td>5.0</td>\n",
       "      <td>3.02</td>\n",
       "      <td>0.0</td>\n",
       "      <td>0.0</td>\n",
       "    </tr>\n",
       "    <tr>\n",
       "      <th>2</th>\n",
       "      <td>85.0</td>\n",
       "      <td>408.0</td>\n",
       "      <td>0.0</td>\n",
       "      <td>27.0</td>\n",
       "      <td>139.0</td>\n",
       "      <td>33.39</td>\n",
       "      <td>90.0</td>\n",
       "      <td>23.88</td>\n",
       "      <td>75.0</td>\n",
       "      <td>4.02</td>\n",
       "      <td>4.0</td>\n",
       "      <td>3.73</td>\n",
       "      <td>1.0</td>\n",
       "      <td>0.0</td>\n",
       "    </tr>\n",
       "  </tbody>\n",
       "</table>\n",
       "</div>"
      ],
      "text/plain": [
       "              account length  area code  international plan  \\\n",
       "phone number                                                  \n",
       "0                      128.0      415.0                 0.0   \n",
       "1                      141.0      415.0                 1.0   \n",
       "2                       85.0      408.0                 0.0   \n",
       "\n",
       "              number vmail messages  total day calls  total day charge  \\\n",
       "phone number                                                             \n",
       "0                              25.0            110.0             45.07   \n",
       "1                              37.0             84.0             43.96   \n",
       "2                              27.0            139.0             33.39   \n",
       "\n",
       "              total eve calls  total eve charge  total night calls  \\\n",
       "phone number                                                         \n",
       "0                        99.0             16.78               91.0   \n",
       "1                       111.0             18.87               97.0   \n",
       "2                        90.0             23.88               75.0   \n",
       "\n",
       "              total night charge  total intl calls  total intl charge  \\\n",
       "phone number                                                            \n",
       "0                          11.01               3.0               2.70   \n",
       "1                          14.69               5.0               3.02   \n",
       "2                           4.02               4.0               3.73   \n",
       "\n",
       "              customer service calls  churn  \n",
       "phone number                                 \n",
       "0                                1.0    0.0  \n",
       "1                                0.0    0.0  \n",
       "2                                1.0    0.0  "
      ]
     },
     "execution_count": 4,
     "metadata": {},
     "output_type": "execute_result"
    }
   ],
   "source": [
    "'''\n",
    "df1_train = pd.read_pickle(\"./df1_train.pkl\")\n",
    "df1_test  = pd.read_pickle(\"./df1_test.pkl\")\n",
    "\n",
    "df2_train = pd.read_pickle(\"./df2_train.pkl\")\n",
    "df2_test  = pd.read_pickle(\"./df2_test.pkl\")\n",
    "print(str(len(df1_train))+\" \"+str(len(df1_test))+\" || \"+str(len(df2_train))+\" \"+str(len(df2_test)))\n",
    "'''\n",
    "df1_train = pd.read_pickle(\"./df1_reduced_train.pkl\")\n",
    "df1_test  = pd.read_pickle(\"./df1_reduced_test.pkl\")\n",
    "\n",
    "print(str(len(df1_train))+\" \"+str(len(df1_test)))\n",
    "df1_test.head(3)"
   ]
  },
  {
   "cell_type": "code",
   "execution_count": 3,
   "metadata": {
    "collapsed": true
   },
   "outputs": [],
   "source": [
    "def run_knn(df_train, df_test):   \n",
    "    X_train = df_train.iloc[:,:-1]\n",
    "    y_train = df_train.iloc[:,-1:]\n",
    "    X_test  = df_test.iloc[:,:-1]\n",
    "    y_test  = df_test.iloc[:,-1:]\n",
    "    \n",
    "    #Feature Scaling\n",
    "    scaler = StandardScaler()  \n",
    "    scaler.fit(X_train)\n",
    "\n",
    "    X_train = scaler.transform(X_train)  \n",
    "    X_test = scaler.transform(X_test)  \n",
    "    \n",
    "    #Training\n",
    "    classifier = KNeighborsClassifier(n_neighbors=11)  \n",
    "    classifier.fit(X_train, y_train) \n",
    "    \n",
    "    y_pred_train = classifier.predict(X_train)\n",
    "    y_pred_test = classifier.predict(X_test)  \n",
    "    cnf_matrix_train   = metrics.confusion_matrix(y_train, y_pred_train)\n",
    "    cnf_matrix_test    = metrics.confusion_matrix(y_test , y_pred_test)\n",
    "    cnf_matrix_train   = cnf_matrix_train/len(df_train)\n",
    "    cnf_matrix_test    = cnf_matrix_test/len(df_test)\n",
    "    \n",
    "    class_names=[0,1]\n",
    "    \n",
    "    print(\"Confusion Matrix Training set\")\n",
    "    fig, ax = plt.subplots()\n",
    "    tick_marks = np.arange(len(class_names))\n",
    "    plt.xticks(tick_marks, class_names)\n",
    "    plt.yticks(tick_marks, class_names)\n",
    "    sns.heatmap(pd.DataFrame(cnf_matrix_train), annot=True, cmap=\"YlGnBu\" ,fmt='g')\n",
    "    ax.xaxis.set_label_position(\"top\")\n",
    "    plt.tight_layout()\n",
    "    plt.title('Confusion matrix', y=1.1)\n",
    "    plt.ylabel('Actual label')\n",
    "    plt.xlabel('Predicted label')\n",
    "    plt.show()\n",
    "    \n",
    "    print(\"Confusion Matrix Test set\")\n",
    "    fig, ax = plt.subplots()\n",
    "    tick_marks = np.arange(len(class_names))\n",
    "    plt.xticks(tick_marks, class_names)\n",
    "    plt.yticks(tick_marks, class_names)\n",
    "    sns.heatmap(pd.DataFrame(cnf_matrix_test), annot=True, cmap=\"YlGnBu\" ,fmt='g')\n",
    "    ax.xaxis.set_label_position(\"top\")\n",
    "    plt.tight_layout()\n",
    "    plt.title('Confusion matrix', y=1.1)\n",
    "    plt.ylabel('Actual label')\n",
    "    plt.xlabel('Predicted label')\n",
    "    plt.show()\n",
    "    \n",
    "    print(\"=================On test set=================\")\n",
    "    print(\"Accuracy   :\",metrics.accuracy_score( y_test, y_pred_test))\n",
    "    print(\"Precision  :\",metrics.precision_score(y_test, y_pred_test))\n",
    "    print(\"Recall     :\",metrics.recall_score(   y_test, y_pred_test))\n",
    "    print(\"F1 Score   :\",metrics.f1_score(       y_test, y_pred_test))\n",
    "    return"
   ]
  },
  {
   "cell_type": "code",
   "execution_count": 5,
   "metadata": {},
   "outputs": [
    {
     "name": "stdout",
     "output_type": "stream",
     "text": [
      "********************************** Data Frame 1 **********************************\n"
     ]
    },
    {
     "name": "stderr",
     "output_type": "stream",
     "text": [
      "F:\\Anaconda3\\lib\\site-packages\\ipykernel_launcher.py:16: DataConversionWarning: A column-vector y was passed when a 1d array was expected. Please change the shape of y to (n_samples, ), for example using ravel().\n",
      "  app.launch_new_instance()\n"
     ]
    },
    {
     "name": "stdout",
     "output_type": "stream",
     "text": [
      "Confusion Matrix Training set\n"
     ]
    },
    {
     "data": {
      "image/png": "[encoded data removed]",
      "text/plain": [
       "<matplotlib.figure.Figure at 0x1af03031c88>"
      ]
     },
     "metadata": {},
     "output_type": "display_data"
    },
    {
     "name": "stdout",
     "output_type": "stream",
     "text": [
      "Confusion Matrix Test set\n"
     ]
    },
    {
     "data": {
      "image/png": "[encoded data removed]",
      "text/plain": [
       "<matplotlib.figure.Figure at 0x1af09c584e0>"
      ]
     },
     "metadata": {},
     "output_type": "display_data"
    },
    {
     "name": "stdout",
     "output_type": "stream",
     "text": [
      "=================On test set=================\n",
      "Accuracy   : 0.866071428571\n",
      "Precision  : 0.791666666667\n",
      "Recall     : 0.182692307692\n",
      "F1 Score   : 0.296875\n"
     ]
    }
   ],
   "source": [
    "print(\"********************************** Data Frame 1 **********************************\")\n",
    "run_knn(df1_train, df1_test)\n",
    "\n",
    "#print(\"********************************** Data Frame 2 **********************************\")\n",
    "#run_knn(df2_train, df2_test)"
   ]
  },
  {
   "cell_type": "code",
   "execution_count": 9,
   "metadata": {},
   "outputs": [
    {
     "name": "stderr",
     "output_type": "stream",
     "text": [
      "F:\\Anaconda3\\lib\\site-packages\\ipykernel_launcher.py:16: DataConversionWarning: A column-vector y was passed when a 1d array was expected. Please change the shape of y to (n_samples, ), for example using ravel().\n",
      "  app.launch_new_instance()\n"
     ]
    },
    {
     "name": "stdout",
     "output_type": "stream",
     "text": [
      "Confusion Matrix Training set\n"
     ]
    },
    {
     "data": {
      "image/png": "[encoded data removed]",
      "text/plain": [
       "<matplotlib.figure.Figure at 0x1af0a06b978>"
      ]
     },
     "metadata": {},
     "output_type": "display_data"
    },
    {
     "name": "stdout",
     "output_type": "stream",
     "text": [
      "Confusion Matrix Test set\n"
     ]
    },
    {
     "data": {
      "image/png": "[encoded data removed]",
      "text/plain": [
       "<matplotlib.figure.Figure at 0x1af0a6dacf8>"
      ]
     },
     "metadata": {},
     "output_type": "display_data"
    },
    {
     "name": "stdout",
     "output_type": "stream",
     "text": [
      "=================On test set=================\n",
      "Accuracy   : 0.870535714286\n",
      "Precision  : 0.68085106383\n",
      "Recall     : 0.307692307692\n",
      "F1 Score   : 0.423841059603\n"
     ]
    }
   ],
   "source": [
    "selected_columns = ['area code', 'international plan', 'number vmail messages', 'total day charge', 'total eve calls', \n",
    "                    'customer service calls'] + ['churn']\n",
    "sel_df1_train = df1_train[selected_columns]\n",
    "sel_df1_test  = df1_test[selected_columns]\n",
    "\n",
    "run_knn(sel_df1_train,sel_df1_test)"
   ]
  }
 ],
 "metadata": {
  "kernelspec": {
   "display_name": "Python 3",
   "language": "python",
   "name": "python3"
  },
  "language_info": {
   "codemirror_mode": {
    "name": "ipython",
    "version": 3
   },
   "file_extension": ".py",
   "mimetype": "text/x-python",
   "name": "python",
   "nbconvert_exporter": "python",
   "pygments_lexer": "ipython3",
   "version": "3.6.2"
  }
 },
 "nbformat": 4,
 "nbformat_minor": 2
}
