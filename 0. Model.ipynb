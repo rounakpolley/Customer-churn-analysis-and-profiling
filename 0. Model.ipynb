{
 "cells": [
  {
   "cell_type": "code",
   "execution_count": 1,
   "metadata": {
    "collapsed": true
   },
   "outputs": [],
   "source": [
    "import random\n",
    "import pandas as pd\n",
    "import numpy as np\n",
    "from itertools import combinations\n",
    "\n",
    "import matplotlib.pyplot as plt\n",
    "import seaborn as sns\n",
    "\n",
    "from sklearn.neural_network import MLPClassifier\n",
    "from sklearn.tree import DecisionTreeClassifier\n",
    "\n",
    "from sklearn import metrics\n",
    "from sklearn.preprocessing import StandardScaler"
   ]
  },
  {
   "cell_type": "markdown",
   "metadata": {},
   "source": [
    "**['area code', 'international plan', 'number vmail messages', 'total day calls', 'total day charge', 'total eve charge', 'total night calls', 'total night charge', 'total intl calls', 'total intl charge', 'customer service calls']**"
   ]
  },
  {
   "cell_type": "code",
   "execution_count": 2,
   "metadata": {},
   "outputs": [
    {
     "name": "stdout",
     "output_type": "stream",
     "text": [
      "2661 672\n"
     ]
    },
    {
     "data": {
      "text/html": [
       "<div>\n",
       "<style>\n",
       "    .dataframe thead tr:only-child th {\n",
       "        text-align: right;\n",
       "    }\n",
       "\n",
       "    .dataframe thead th {\n",
       "        text-align: left;\n",
       "    }\n",
       "\n",
       "    .dataframe tbody tr th {\n",
       "        vertical-align: top;\n",
       "    }\n",
       "</style>\n",
       "<table border=\"1\" class=\"dataframe\">\n",
       "  <thead>\n",
       "    <tr style=\"text-align: right;\">\n",
       "      <th></th>\n",
       "      <th>account length</th>\n",
       "      <th>area code</th>\n",
       "      <th>international plan</th>\n",
       "      <th>number vmail messages</th>\n",
       "      <th>total day calls</th>\n",
       "      <th>total day charge</th>\n",
       "      <th>total eve calls</th>\n",
       "      <th>total eve charge</th>\n",
       "      <th>total night calls</th>\n",
       "      <th>total night charge</th>\n",
       "      <th>total intl calls</th>\n",
       "      <th>total intl charge</th>\n",
       "      <th>customer service calls</th>\n",
       "      <th>churn</th>\n",
       "    </tr>\n",
       "    <tr>\n",
       "      <th>phone number</th>\n",
       "      <th></th>\n",
       "      <th></th>\n",
       "      <th></th>\n",
       "      <th></th>\n",
       "      <th></th>\n",
       "      <th></th>\n",
       "      <th></th>\n",
       "      <th></th>\n",
       "      <th></th>\n",
       "      <th></th>\n",
       "      <th></th>\n",
       "      <th></th>\n",
       "      <th></th>\n",
       "      <th></th>\n",
       "    </tr>\n",
       "  </thead>\n",
       "  <tbody>\n",
       "    <tr>\n",
       "      <th>0</th>\n",
       "      <td>128.0</td>\n",
       "      <td>415.0</td>\n",
       "      <td>0.0</td>\n",
       "      <td>25.0</td>\n",
       "      <td>110.0</td>\n",
       "      <td>45.07</td>\n",
       "      <td>99.0</td>\n",
       "      <td>16.78</td>\n",
       "      <td>91.0</td>\n",
       "      <td>11.01</td>\n",
       "      <td>3.0</td>\n",
       "      <td>2.70</td>\n",
       "      <td>1.0</td>\n",
       "      <td>0.0</td>\n",
       "    </tr>\n",
       "    <tr>\n",
       "      <th>1</th>\n",
       "      <td>141.0</td>\n",
       "      <td>415.0</td>\n",
       "      <td>1.0</td>\n",
       "      <td>37.0</td>\n",
       "      <td>84.0</td>\n",
       "      <td>43.96</td>\n",
       "      <td>111.0</td>\n",
       "      <td>18.87</td>\n",
       "      <td>97.0</td>\n",
       "      <td>14.69</td>\n",
       "      <td>5.0</td>\n",
       "      <td>3.02</td>\n",
       "      <td>0.0</td>\n",
       "      <td>0.0</td>\n",
       "    </tr>\n",
       "    <tr>\n",
       "      <th>2</th>\n",
       "      <td>85.0</td>\n",
       "      <td>408.0</td>\n",
       "      <td>0.0</td>\n",
       "      <td>27.0</td>\n",
       "      <td>139.0</td>\n",
       "      <td>33.39</td>\n",
       "      <td>90.0</td>\n",
       "      <td>23.88</td>\n",
       "      <td>75.0</td>\n",
       "      <td>4.02</td>\n",
       "      <td>4.0</td>\n",
       "      <td>3.73</td>\n",
       "      <td>1.0</td>\n",
       "      <td>0.0</td>\n",
       "    </tr>\n",
       "  </tbody>\n",
       "</table>\n",
       "</div>"
      ],
      "text/plain": [
       "              account length  area code  international plan  \\\n",
       "phone number                                                  \n",
       "0                      128.0      415.0                 0.0   \n",
       "1                      141.0      415.0                 1.0   \n",
       "2                       85.0      408.0                 0.0   \n",
       "\n",
       "              number vmail messages  total day calls  total day charge  \\\n",
       "phone number                                                             \n",
       "0                              25.0            110.0             45.07   \n",
       "1                              37.0             84.0             43.96   \n",
       "2                              27.0            139.0             33.39   \n",
       "\n",
       "              total eve calls  total eve charge  total night calls  \\\n",
       "phone number                                                         \n",
       "0                        99.0             16.78               91.0   \n",
       "1                       111.0             18.87               97.0   \n",
       "2                        90.0             23.88               75.0   \n",
       "\n",
       "              total night charge  total intl calls  total intl charge  \\\n",
       "phone number                                                            \n",
       "0                          11.01               3.0               2.70   \n",
       "1                          14.69               5.0               3.02   \n",
       "2                           4.02               4.0               3.73   \n",
       "\n",
       "              customer service calls  churn  \n",
       "phone number                                 \n",
       "0                                1.0    0.0  \n",
       "1                                0.0    0.0  \n",
       "2                                1.0    0.0  "
      ]
     },
     "execution_count": 2,
     "metadata": {},
     "output_type": "execute_result"
    }
   ],
   "source": [
    "df1_train = pd.read_pickle(\"./df1_reduced_train.pkl\")\n",
    "df1_test  = pd.read_pickle(\"./df1_reduced_test.pkl\")\n",
    "\n",
    "print(str(len(df1_train))+\" \"+str(len(df1_test)))\n",
    "df1_test.head(3)"
   ]
  },
  {
   "cell_type": "code",
   "execution_count": 21,
   "metadata": {
    "collapsed": true
   },
   "outputs": [],
   "source": [
    "def get_selective_data(col_names):    #col_names : list\n",
    "    col_names     = col_names + ['churn']\n",
    "    df_train      = df1_train[col_names]\n",
    "    df_test       = df1_test[col_names]\n",
    "    X_train       = df_train.iloc[:,:-1]\n",
    "    y_train       = df_train.iloc[:,-1:]\n",
    "    X_test        = df_test.iloc[:,:-1]\n",
    "    y_test        = df_test.iloc[:,-1:]\n",
    "    \n",
    "    scaler        = StandardScaler()\n",
    "    scaler.fit(X_train)                                       \n",
    "    X_train       = scaler.transform(X_train)\n",
    "    X_test        = scaler.transform(X_test)\n",
    "    \n",
    "    return X_train, y_train, X_test, y_test\n",
    "\n",
    "def test_parallel_model(col_names):\n",
    "    X_train, y_train, X_test, y_test = get_selective_data(col_names)\n",
    "    dt_y_pred_train, dt_y_pred_test = run_decission_tree(X_train, y_train, X_test, y_test, \n",
    "                                                         \"entropy\", \"best\", None, 0.01, 0.01)\n",
    "    nn_y_pred_train, nn_y_pred_test = run_dnn(X_train, y_train, X_test, y_test, \n",
    "                                              'adam',0.000001, (12,12,12,6), 500, 25)\n",
    "    \n",
    "    truncated_y_test   =         y_test[ dt_y_pred_test == nn_y_pred_test ]\n",
    "    same_pred_y_test   = dt_y_pred_test[ dt_y_pred_test == nn_y_pred_test ]\n",
    "    \n",
    "    return metrics.accuracy_score(truncated_y_test, same_pred_y_test)"
   ]
  },
  {
   "cell_type": "markdown",
   "metadata": {},
   "source": [
    "<h2 style=\"color:red\">Don't run the next cell. Runtime is in hours !!!</h2>"
   ]
  },
  {
   "cell_type": "code",
   "execution_count": 23,
   "metadata": {},
   "outputs": [
    {
     "name": "stdout",
     "output_type": "stream",
     "text": [
      "********************************************            1\n"
     ]
    },
    {
     "name": "stderr",
     "output_type": "stream",
     "text": [
      "F:\\Anaconda3\\lib\\site-packages\\sklearn\\neural_network\\multilayer_perceptron.py:912: DataConversionWarning: A column-vector y was passed when a 1d array was expected. Please change the shape of y to (n_samples, ), for example using ravel().\n",
      "  y = column_or_1d(y, warn=True)\n"
     ]
    },
    {
     "name": "stdout",
     "output_type": "stream",
     "text": [
      "********************************************            2\n",
      "********************************************            3\n",
      "********************************************            4\n",
      "********************************************            5\n",
      "********************************************            6\n",
      "********************************************            7\n",
      "********************************************            8\n",
      "********************************************            9\n",
      "********************************************            10\n",
      "********************************************            11\n",
      "********************************************            12\n",
      "********************************************            13\n",
      "#####################################################################################\n",
      "['area code', 'international plan', 'number vmail messages', 'total day calls', 'total day charge', 'total eve charge', 'total night calls', 'total night charge', 'total intl calls', 'total intl charge', 'customer service calls']\n",
      "0.968903436989\n"
     ]
    }
   ],
   "source": [
    "max_accuracy = 0\n",
    "selected_col = []\n",
    "for i in range(1,14):    \n",
    "    print(\"********************************************           \",str(i))\n",
    "    col_comb = list(combinations(df1_train.columns[:-1], i))\n",
    "    for j in range(len(col_comb)):\n",
    "        col_names      = list(col_comb[j])\n",
    "        accuracy       = test_parallel_model(col_names)\n",
    "        if(accuracy > max_accuracy):\n",
    "            max_accuracy = accuracy\n",
    "            selected_col = col_names\n",
    "        \n",
    "print(\"#####################################################################################\")\n",
    "print(selected_col)\n",
    "print(max_accuracy)"
   ]
  },
  {
   "cell_type": "code",
   "execution_count": 3,
   "metadata": {
    "collapsed": true
   },
   "outputs": [],
   "source": [
    "def get_data():\n",
    "    X_train       = df1_train.iloc[:,:-1]\n",
    "    y_train       = df1_train.iloc[:,-1:]\n",
    "    X_test        = df1_test.iloc[:,:-1]\n",
    "    y_test        = df1_test.iloc[:,-1:]\n",
    "    \n",
    "    scaler        = StandardScaler()\n",
    "    scaler.fit(X_train)                                       \n",
    "    X_train       = scaler.transform(X_train)\n",
    "    X_test        = scaler.transform(X_test)\n",
    "    \n",
    "    return X_train, y_train, X_test, y_test\n",
    "\n",
    "def run_decission_tree(X_train, y_train, X_test, y_test, criteria, split_type, max_depth, min_split, min_leaf):\n",
    "\n",
    "    decision_tree = DecisionTreeClassifier(criterion = criteria, splitter = split_type, max_depth = max_depth, \n",
    "                                       min_samples_split = min_split , min_samples_leaf = min_leaf)\n",
    "    decision_tree.fit(X_train, y_train)\n",
    "    \n",
    "    y_pred_train       = decision_tree.predict(X_train)\n",
    "    y_pred_test        = decision_tree.predict(X_test)                \n",
    "    \n",
    "    return y_pred_train, y_pred_test\n",
    "\n",
    "def run_dnn(X_train, y_train, X_test, y_test, _solver, _alpha, _layers, _max_iter, _random_state):\n",
    "    \n",
    "    neural_network = MLPClassifier(solver=_solver, alpha=_alpha, hidden_layer_sizes=_layers, max_iter=_max_iter, verbose=False, \n",
    "                          warm_start=False, random_state=_random_state)\n",
    "    neural_network.fit(X_train, y_train) \n",
    "    \n",
    "    y_pred_train       = neural_network.predict(X_train)\n",
    "    y_pred_test        = neural_network.predict(X_test)  \n",
    "    \n",
    "    return y_pred_train, y_pred_test"
   ]
  },
  {
   "cell_type": "code",
   "execution_count": 100,
   "metadata": {},
   "outputs": [
    {
     "name": "stderr",
     "output_type": "stream",
     "text": [
      "F:\\Anaconda3\\lib\\site-packages\\sklearn\\neural_network\\multilayer_perceptron.py:912: DataConversionWarning: A column-vector y was passed when a 1d array was expected. Please change the shape of y to (n_samples, ), for example using ravel().\n",
      "  y = column_or_1d(y, warn=True)\n"
     ]
    },
    {
     "name": "stdout",
     "output_type": "stream",
     "text": [
      "***************    On truncated training set    ***************\n",
      "Accuracy   : 0.974593092497\n",
      "Precision  : 0.995391705069\n",
      "Recall     : 0.774193548387\n",
      "F1 Score   : 0.870967741935\n"
     ]
    },
    {
     "data": {
      "image/png": "[encoded data removed]",
      "text/plain": [
       "<matplotlib.figure.Figure at 0x1f3d2e94dd8>"
      ]
     },
     "metadata": {},
     "output_type": "display_data"
    },
    {
     "name": "stdout",
     "output_type": "stream",
     "text": [
      "***************    On truncated test set    ***************\n",
      "Accuracy   : 0.964458804523\n",
      "Precision  : 1.0\n",
      "Recall     : 0.661538461538\n",
      "F1 Score   : 0.796296296296\n"
     ]
    },
    {
     "data": {
      "image/png": "[encoded data removed]",
      "text/plain": [
       "<matplotlib.figure.Figure at 0x1f3d2e94c88>"
      ]
     },
     "metadata": {},
     "output_type": "display_data"
    },
    {
     "name": "stdout",
     "output_type": "stream",
     "text": [
      "Conflict percentage train :  5.336  test :  7.887\n",
      "----------------------------------------------- Conflict resolution training set\n",
      "Accuracy   : 0.549295774648\n",
      "Precision  : 0.764705882353\n",
      "Recall     : 0.52\n",
      "F1 Score   : 0.619047619048\n",
      "----------------------------------------------- Conflict resolution test set\n",
      "Accuracy   : 0.528301886792\n",
      "Precision  : 0.791666666667\n",
      "Recall     : 0.487179487179\n",
      "F1 Score   : 0.603174603175\n"
     ]
    }
   ],
   "source": [
    "def run_parallel_model():\n",
    "    X_train, y_train, X_test, y_test = get_data()\n",
    "    dt_y_pred_train, dt_y_pred_test = run_decission_tree(X_train, y_train, X_test, y_test, \n",
    "                                                         \"entropy\", \"best\", None, 0.01, 0.01)\n",
    "    nn_y_pred_train, nn_y_pred_test = run_dnn(X_train, y_train, X_test, y_test, \n",
    "                                              'adam',0.000001, (12,12,12,6), 500, 25)\n",
    "\n",
    "                         \n",
    "    truncated_y_train   =         y_train[ dt_y_pred_train == nn_y_pred_train ] #values of y_train when both algo in the prediction (of training set) are in accordance with each other\n",
    "    same_pred_y_train   = dt_y_pred_train[ dt_y_pred_train == nn_y_pred_train ] #values of training prediction when both algo (of training set) are in accordance with each other\n",
    "    conflict_y_train    =         y_train[ dt_y_pred_train != nn_y_pred_train ] #values of y_train when algos in conflict\n",
    "    conflict_dt_y_train = dt_y_pred_train[ dt_y_pred_train != nn_y_pred_train ] #conflicting values singled out of prediction of each algo. (on training set)\n",
    "    conflict_nn_y_train = nn_y_pred_train[ dt_y_pred_train != nn_y_pred_train ]\n",
    "    \n",
    "                        #similarly for test set\n",
    "    truncated_y_test   =         y_test[ dt_y_pred_test == nn_y_pred_test ]\n",
    "    same_pred_y_test   = dt_y_pred_test[ dt_y_pred_test == nn_y_pred_test ]\n",
    "    conflict_y_test    =         y_test[ dt_y_pred_test != nn_y_pred_test ]\n",
    "    conflict_dt_y_test = dt_y_pred_test[ dt_y_pred_test != nn_y_pred_test ]\n",
    "    conflict_nn_y_test = nn_y_pred_test[ dt_y_pred_test != nn_y_pred_test ]\n",
    "    #=================================================================================================\n",
    "    truncated_cnf_matrix_train   = metrics.confusion_matrix(truncated_y_train, same_pred_y_train)/len(truncated_y_train)\n",
    "    truncated_cnf_matrix_test    = metrics.confusion_matrix(truncated_y_test , same_pred_y_test )/len(truncated_y_test)\n",
    "    \n",
    "    class_names=[0,1]\n",
    "    \n",
    "    print(\"***************    On truncated training set    ***************\")\n",
    "    print(\"Accuracy   :\",metrics.accuracy_score( truncated_y_train, same_pred_y_train))\n",
    "    print(\"Precision  :\",metrics.precision_score(truncated_y_train, same_pred_y_train))\n",
    "    print(\"Recall     :\",metrics.recall_score(   truncated_y_train, same_pred_y_train))\n",
    "    print(\"F1 Score   :\",metrics.f1_score(       truncated_y_train, same_pred_y_train))\n",
    "    \n",
    "    fig, ax = plt.subplots()\n",
    "    tick_marks = np.arange(len(class_names))\n",
    "    plt.xticks(tick_marks, class_names)\n",
    "    plt.yticks(tick_marks, class_names)\n",
    "    sns.heatmap(pd.DataFrame(truncated_cnf_matrix_train), annot=True, cmap=\"YlGnBu\" ,fmt='g')\n",
    "    ax.xaxis.set_label_position(\"top\")\n",
    "    plt.tight_layout()\n",
    "    plt.title('Confusion matrix', y=1.1)\n",
    "    plt.ylabel('Actual label')\n",
    "    plt.xlabel('Predicted label')\n",
    "    plt.show()\n",
    "    \n",
    "    print(\"***************    On truncated test set    ***************\")\n",
    "    print(\"Accuracy   :\",metrics.accuracy_score( truncated_y_test, same_pred_y_test))\n",
    "    print(\"Precision  :\",metrics.precision_score(truncated_y_test, same_pred_y_test))\n",
    "    print(\"Recall     :\",metrics.recall_score(   truncated_y_test, same_pred_y_test))\n",
    "    print(\"F1 Score   :\",metrics.f1_score(       truncated_y_test, same_pred_y_test))\n",
    "    \n",
    "    fig, ax = plt.subplots()\n",
    "    tick_marks = np.arange(len(class_names))\n",
    "    plt.xticks(tick_marks, class_names)\n",
    "    plt.yticks(tick_marks, class_names)\n",
    "    sns.heatmap(pd.DataFrame(truncated_cnf_matrix_test), annot=True, cmap=\"YlGnBu\" ,fmt='g')\n",
    "    ax.xaxis.set_label_position(\"top\")\n",
    "    plt.tight_layout()\n",
    "    plt.title('Confusion matrix', y=1.1)\n",
    "    plt.ylabel('Actual label')\n",
    "    plt.xlabel('Predicted label')\n",
    "    plt.show()\n",
    "    \n",
    "    n_train_conflict = len(conflict_y_train)\n",
    "    n_test_conflict  = len(conflict_y_test)\n",
    "    \n",
    "    print(\"Conflict percentage train : \", str(round(n_train_conflict*100/len(y_train), 3)),\n",
    "          \" test : \", str(round(n_test_conflict*100/len(y_test),3)))\n",
    "    \n",
    "    random.seed(25)\n",
    "    rand_train = [random.uniform(0, 1) for i in range(n_train_conflict)]\n",
    "    rand_test  = [random.uniform(0, 1) for i in range(n_test_conflict)]\n",
    "    \n",
    "    resolve_y_train = [conflict_dt_y_train[i] if rand_train[i]<0.5 else conflict_nn_y_train[i]\n",
    "                      for i in range(n_train_conflict)]\n",
    "    resolve_y_test = [conflict_dt_y_test[i]   if rand_test[i]< 0.5  else conflict_nn_y_test[i]\n",
    "                      for i in range(n_test_conflict)]\n",
    "    \n",
    "    print(\"----------------------------------------------- Conflict resolution training set\")\n",
    "    print(\"Accuracy   :\",metrics.accuracy_score( conflict_y_train, resolve_y_train))\n",
    "    print(\"Precision  :\",metrics.precision_score(conflict_y_train, resolve_y_train))\n",
    "    print(\"Recall     :\",metrics.recall_score(   conflict_y_train, resolve_y_train))\n",
    "    print(\"F1 Score   :\",metrics.f1_score(       conflict_y_train, resolve_y_train))\n",
    "    print(\"----------------------------------------------- Conflict resolution test set\")\n",
    "    print(\"Accuracy   :\",metrics.accuracy_score( conflict_y_test,  resolve_y_test))\n",
    "    print(\"Precision  :\",metrics.precision_score(conflict_y_test,  resolve_y_test))\n",
    "    print(\"Recall     :\",metrics.recall_score(   conflict_y_test,  resolve_y_test))\n",
    "    print(\"F1 Score   :\",metrics.f1_score(       conflict_y_test,  resolve_y_test))\n",
    "    \n",
    "    return\n",
    "run_parallel_model()"
   ]
  },
  {
   "cell_type": "markdown",
   "metadata": {},
   "source": [
    "10 0.514084507042 0.509433962264\n",
    "30 0.542253521127 0.509433962264\n",
    "25 0.549295774648 0.528301886792\n",
    "\n",
    "28 0.492957746479 0.566037735849\n",
    "44 0.514084507042 0.566037735849\n",
    "34 0.521126760563 0.566037735849\n",
    "5  0.492957746479 0.584905660377   18 0.492957746479 0.584905660377\n",
    "45 0.528169014085 0.584905660377\n",
    "56 0.56338028169  0.584905660377\n",
    "9  0.443661971831 0.603773584906\n",
    "29 0.521126760563 0.641509433962\n",
    "\n",
    "21 0.535211267606 0.528301886792\n",
    "35 0.56338028169  0.509433962264\n",
    "\n",
    "41 0.542253521127 0.547169811321\n",
    "\n",
    "53 0.5            0.566037735849"
   ]
  },
  {
   "cell_type": "code",
   "execution_count": 5,
   "metadata": {},
   "outputs": [
    {
     "name": "stderr",
     "output_type": "stream",
     "text": [
      "F:\\Anaconda3\\lib\\site-packages\\sklearn\\neural_network\\multilayer_perceptron.py:912: DataConversionWarning: A column-vector y was passed when a 1d array was expected. Please change the shape of y to (n_samples, ), for example using ravel().\n",
      "  y = column_or_1d(y, warn=True)\n"
     ]
    },
    {
     "name": "stdout",
     "output_type": "stream",
     "text": [
      "***************    On truncated training set    ***************\n",
      "Accuracy   : 0.974593092497\n",
      "Precision  : 0.995391705069\n",
      "Recall     : 0.774193548387\n",
      "F1 Score   : 0.870967741935\n"
     ]
    },
    {
     "data": {
      "image/png": "[encoded data removed]",
      "text/plain": [
       "<matplotlib.figure.Figure at 0x1f3d1b99a20>"
      ]
     },
     "metadata": {},
     "output_type": "display_data"
    },
    {
     "name": "stdout",
     "output_type": "stream",
     "text": [
      "***************    On truncated test set    ***************\n",
      "Accuracy   : 0.964458804523\n",
      "Precision  : 1.0\n",
      "Recall     : 0.661538461538\n",
      "F1 Score   : 0.796296296296\n"
     ]
    },
    {
     "data": {
      "image/png": "[encoded data removed]",
      "text/plain": [
       "<matplotlib.figure.Figure at 0x1f3d1b997f0>"
      ]
     },
     "metadata": {},
     "output_type": "display_data"
    },
    {
     "name": "stdout",
     "output_type": "stream",
     "text": [
      "No of conflicts in train :  142\n",
      "No of conflicts in test  :  53\n"
     ]
    }
   ],
   "source": [
    "run_parallel_model()"
   ]
  },
  {
   "cell_type": "code",
   "execution_count": 30,
   "metadata": {
    "scrolled": false
   },
   "outputs": [
    {
     "name": "stderr",
     "output_type": "stream",
     "text": [
      "F:\\Anaconda3\\lib\\site-packages\\sklearn\\neural_network\\multilayer_perceptron.py:912: DataConversionWarning: A column-vector y was passed when a 1d array was expected. Please change the shape of y to (n_samples, ), for example using ravel().\n",
      "  y = column_or_1d(y, warn=True)\n"
     ]
    },
    {
     "name": "stdout",
     "output_type": "stream",
     "text": [
      "***************    On truncated training set    ***************\n",
      "Accuracy   : 0.977227327207\n",
      "Precision  : 0.990825688073\n",
      "Recall     : 0.79704797048\n",
      "F1 Score   : 0.883435582822\n"
     ]
    },
    {
     "data": {
      "image/png": "[encoded data removed]",
      "text/plain": [
       "<matplotlib.figure.Figure at 0x220ea7ed470>"
      ]
     },
     "metadata": {},
     "output_type": "display_data"
    },
    {
     "name": "stdout",
     "output_type": "stream",
     "text": [
      "***************    On truncated test set    ***************\n",
      "Accuracy   : 0.968903436989\n",
      "Precision  : 0.978723404255\n",
      "Recall     : 0.71875\n",
      "F1 Score   : 0.828828828829\n"
     ]
    },
    {
     "data": {
      "image/png": "[encoded data removed]",
      "text/plain": [
       "<matplotlib.figure.Figure at 0x220eaab0c18>"
      ]
     },
     "metadata": {},
     "output_type": "display_data"
    },
    {
     "name": "stdout",
     "output_type": "stream",
     "text": [
      "No of conflicts in train :  158\n",
      "No of conflicts in test  :  61\n"
     ]
    }
   ],
   "source": [
    "selected_columns_for_model = ['area code', 'international plan', 'number vmail messages', 'total day calls', 'total day charge',\n",
    "                              'total eve charge', 'total night calls', 'total night charge', 'total intl calls', \n",
    "                              'total intl charge', 'customer service calls']+['churn']\n",
    "df1_train = df1_train[selected_columns_for_model]\n",
    "df1_test  = df1_test[selected_columns_for_model]\n",
    "run_parallel_model()"
   ]
  }
 ],
 "metadata": {
  "kernelspec": {
   "display_name": "Python 3",
   "language": "python",
   "name": "python3"
  },
  "language_info": {
   "codemirror_mode": {
    "name": "ipython",
    "version": 3
   },
   "file_extension": ".py",
   "mimetype": "text/x-python",
   "name": "python",
   "nbconvert_exporter": "python",
   "pygments_lexer": "ipython3",
   "version": "3.6.2"
  }
 },
 "nbformat": 4,
 "nbformat_minor": 2
}
