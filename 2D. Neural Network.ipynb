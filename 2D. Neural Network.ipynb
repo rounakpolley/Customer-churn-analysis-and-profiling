{
 "cells": [
  {
   "cell_type": "code",
   "execution_count": 1,
   "metadata": {
    "collapsed": true
   },
   "outputs": [],
   "source": [
    "import pandas as pd\n",
    "import numpy as np\n",
    "import matplotlib.pyplot as plt\n",
    "import seaborn as sb\n",
    "from sklearn import metrics\n",
    "import seaborn as sns\n",
    "from sklearn.preprocessing import StandardScaler\n",
    "from sklearn.neural_network import MLPClassifier"
   ]
  },
  {
   "cell_type": "code",
   "execution_count": 2,
   "metadata": {},
   "outputs": [
    {
     "name": "stdout",
     "output_type": "stream",
     "text": [
      "2661 672\n"
     ]
    },
    {
     "data": {
      "text/html": [
       "<div>\n",
       "<style>\n",
       "    .dataframe thead tr:only-child th {\n",
       "        text-align: right;\n",
       "    }\n",
       "\n",
       "    .dataframe thead th {\n",
       "        text-align: left;\n",
       "    }\n",
       "\n",
       "    .dataframe tbody tr th {\n",
       "        vertical-align: top;\n",
       "    }\n",
       "</style>\n",
       "<table border=\"1\" class=\"dataframe\">\n",
       "  <thead>\n",
       "    <tr style=\"text-align: right;\">\n",
       "      <th></th>\n",
       "      <th>account length</th>\n",
       "      <th>area code</th>\n",
       "      <th>international plan</th>\n",
       "      <th>number vmail messages</th>\n",
       "      <th>total day calls</th>\n",
       "      <th>total day charge</th>\n",
       "      <th>total eve calls</th>\n",
       "      <th>total eve charge</th>\n",
       "      <th>total night calls</th>\n",
       "      <th>total night charge</th>\n",
       "      <th>total intl calls</th>\n",
       "      <th>total intl charge</th>\n",
       "      <th>customer service calls</th>\n",
       "      <th>churn</th>\n",
       "    </tr>\n",
       "    <tr>\n",
       "      <th>phone number</th>\n",
       "      <th></th>\n",
       "      <th></th>\n",
       "      <th></th>\n",
       "      <th></th>\n",
       "      <th></th>\n",
       "      <th></th>\n",
       "      <th></th>\n",
       "      <th></th>\n",
       "      <th></th>\n",
       "      <th></th>\n",
       "      <th></th>\n",
       "      <th></th>\n",
       "      <th></th>\n",
       "      <th></th>\n",
       "    </tr>\n",
       "  </thead>\n",
       "  <tbody>\n",
       "    <tr>\n",
       "      <th>0</th>\n",
       "      <td>128.0</td>\n",
       "      <td>415.0</td>\n",
       "      <td>0.0</td>\n",
       "      <td>25.0</td>\n",
       "      <td>110.0</td>\n",
       "      <td>45.07</td>\n",
       "      <td>99.0</td>\n",
       "      <td>16.78</td>\n",
       "      <td>91.0</td>\n",
       "      <td>11.01</td>\n",
       "      <td>3.0</td>\n",
       "      <td>2.70</td>\n",
       "      <td>1.0</td>\n",
       "      <td>0.0</td>\n",
       "    </tr>\n",
       "    <tr>\n",
       "      <th>1</th>\n",
       "      <td>141.0</td>\n",
       "      <td>415.0</td>\n",
       "      <td>1.0</td>\n",
       "      <td>37.0</td>\n",
       "      <td>84.0</td>\n",
       "      <td>43.96</td>\n",
       "      <td>111.0</td>\n",
       "      <td>18.87</td>\n",
       "      <td>97.0</td>\n",
       "      <td>14.69</td>\n",
       "      <td>5.0</td>\n",
       "      <td>3.02</td>\n",
       "      <td>0.0</td>\n",
       "      <td>0.0</td>\n",
       "    </tr>\n",
       "    <tr>\n",
       "      <th>2</th>\n",
       "      <td>85.0</td>\n",
       "      <td>408.0</td>\n",
       "      <td>0.0</td>\n",
       "      <td>27.0</td>\n",
       "      <td>139.0</td>\n",
       "      <td>33.39</td>\n",
       "      <td>90.0</td>\n",
       "      <td>23.88</td>\n",
       "      <td>75.0</td>\n",
       "      <td>4.02</td>\n",
       "      <td>4.0</td>\n",
       "      <td>3.73</td>\n",
       "      <td>1.0</td>\n",
       "      <td>0.0</td>\n",
       "    </tr>\n",
       "  </tbody>\n",
       "</table>\n",
       "</div>"
      ],
      "text/plain": [
       "              account length  area code  international plan  \\\n",
       "phone number                                                  \n",
       "0                      128.0      415.0                 0.0   \n",
       "1                      141.0      415.0                 1.0   \n",
       "2                       85.0      408.0                 0.0   \n",
       "\n",
       "              number vmail messages  total day calls  total day charge  \\\n",
       "phone number                                                             \n",
       "0                              25.0            110.0             45.07   \n",
       "1                              37.0             84.0             43.96   \n",
       "2                              27.0            139.0             33.39   \n",
       "\n",
       "              total eve calls  total eve charge  total night calls  \\\n",
       "phone number                                                         \n",
       "0                        99.0             16.78               91.0   \n",
       "1                       111.0             18.87               97.0   \n",
       "2                        90.0             23.88               75.0   \n",
       "\n",
       "              total night charge  total intl calls  total intl charge  \\\n",
       "phone number                                                            \n",
       "0                          11.01               3.0               2.70   \n",
       "1                          14.69               5.0               3.02   \n",
       "2                           4.02               4.0               3.73   \n",
       "\n",
       "              customer service calls  churn  \n",
       "phone number                                 \n",
       "0                                1.0    0.0  \n",
       "1                                0.0    0.0  \n",
       "2                                1.0    0.0  "
      ]
     },
     "execution_count": 2,
     "metadata": {},
     "output_type": "execute_result"
    }
   ],
   "source": [
    "df1_train = pd.read_pickle(\"./df1_reduced_train.pkl\")\n",
    "df1_test  = pd.read_pickle(\"./df1_reduced_test.pkl\")\n",
    "\n",
    "print(str(len(df1_train))+\" \"+str(len(df1_test)))\n",
    "df1_test.head(3)"
   ]
  },
  {
   "cell_type": "code",
   "execution_count": 3,
   "metadata": {
    "collapsed": true
   },
   "outputs": [],
   "source": [
    "def run_dnn(df_train, df_test, _solver, _alpha, _layers, _max_iter, _random_state):   \n",
    "    X_train = df_train.iloc[:,:-1]\n",
    "    y_train = df_train.iloc[:,-1:]\n",
    "    X_test  = df_test.iloc[:,:-1]\n",
    "    y_test  = df_test.iloc[:,-1:]\n",
    "    \n",
    "    scaler  = StandardScaler()\n",
    "    scaler.fit(X_train)                                       # Fit only to the training data\n",
    "                                                              # Now apply the transformations to the data\n",
    "    X_train = scaler.transform(X_train)\n",
    "    X_test  = scaler.transform(X_test)\n",
    "    \n",
    "                                #solver : For small datasets ‘lbfgs’ can converge faster and perform better\n",
    "                                #alpha : L2 penalty (regularization term) parameter | default 0.0001\n",
    "                                #max_iter : solver iterates until convergence (determined by ‘tol’) or this number of iterations\n",
    "                                #verbose : Whether to print progress messages to stdout\n",
    "                                #warm_start : True, reuse the solution of the previous call to fit as initialization,\n",
    "                                            #otherwise, just erase the previous solution.\n",
    "    nn_clf = MLPClassifier(solver=_solver, alpha=_alpha, hidden_layer_sizes=_layers, max_iter=_max_iter, verbose=False, \n",
    "                          warm_start=False, random_state=_random_state)\n",
    "    nn_clf.fit(X_train, y_train) \n",
    "    print(nn_clf)\n",
    "    \n",
    "    y_pred_train       = nn_clf.predict(X_train)\n",
    "    y_pred_test        = nn_clf.predict(X_test)  \n",
    "    cnf_matrix_train   = metrics.confusion_matrix(y_train, y_pred_train)\n",
    "    cnf_matrix_test    = metrics.confusion_matrix(y_test , y_pred_test)\n",
    "    cnf_matrix_train   = cnf_matrix_train/len(df_train)\n",
    "    cnf_matrix_test    = cnf_matrix_test/len(df_test)\n",
    "    \n",
    "    class_names=[0,1]\n",
    "    \n",
    "    print(\"Confusion Matrix Training set\")\n",
    "    fig, ax = plt.subplots()\n",
    "    tick_marks = np.arange(len(class_names))\n",
    "    plt.xticks(tick_marks, class_names)\n",
    "    plt.yticks(tick_marks, class_names)\n",
    "    sns.heatmap(pd.DataFrame(cnf_matrix_train), annot=True, cmap=\"YlGnBu\" ,fmt='g')\n",
    "    ax.xaxis.set_label_position(\"top\")\n",
    "    plt.tight_layout()\n",
    "    plt.title('Confusion matrix', y=1.1)\n",
    "    plt.ylabel('Actual label')\n",
    "    plt.xlabel('Predicted label')\n",
    "    plt.show()\n",
    "    \n",
    "    print(\"Confusion Matrix Test set\")\n",
    "    fig, ax = plt.subplots()\n",
    "    tick_marks = np.arange(len(class_names))\n",
    "    plt.xticks(tick_marks, class_names)\n",
    "    plt.yticks(tick_marks, class_names)\n",
    "    sns.heatmap(pd.DataFrame(cnf_matrix_test), annot=True, cmap=\"YlGnBu\" ,fmt='g')\n",
    "    ax.xaxis.set_label_position(\"top\")\n",
    "    plt.tight_layout()\n",
    "    plt.title('Confusion matrix', y=1.1)\n",
    "    plt.ylabel('Actual label')\n",
    "    plt.xlabel('Predicted label')\n",
    "    plt.show()\n",
    "    \n",
    "    print(\"=================On test set=================\")\n",
    "    print(\"Accuracy   :\", metrics.accuracy_score(y_test, y_pred_test))\n",
    "    print(\"Precision  :\", metrics.precision_score(y_test, y_pred_test))\n",
    "    print(\"Recall     :\", metrics.recall_score(y_test, y_pred_test))\n",
    "    print(\"F1 Score   :\", metrics.f1_score(y_test, y_pred_test))\n",
    "    return"
   ]
  },
  {
   "cell_type": "code",
   "execution_count": 11,
   "metadata": {},
   "outputs": [
    {
     "name": "stderr",
     "output_type": "stream",
     "text": [
      "F:\\Anaconda3\\lib\\site-packages\\sklearn\\neural_network\\multilayer_perceptron.py:912: DataConversionWarning: A column-vector y was passed when a 1d array was expected. Please change the shape of y to (n_samples, ), for example using ravel().\n",
      "  y = column_or_1d(y, warn=True)\n"
     ]
    },
    {
     "name": "stdout",
     "output_type": "stream",
     "text": [
      "MLPClassifier(activation='relu', alpha=1e-06, batch_size='auto', beta_1=0.9,\n",
      "       beta_2=0.999, early_stopping=False, epsilon=1e-08,\n",
      "       hidden_layer_sizes=(12, 12, 12, 6), learning_rate='constant',\n",
      "       learning_rate_init=0.001, max_iter=500, momentum=0.9,\n",
      "       nesterovs_momentum=True, power_t=0.5, random_state=25, shuffle=True,\n",
      "       solver='adam', tol=0.0001, validation_fraction=0.1, verbose=False,\n",
      "       warm_start=False)\n",
      "Confusion Matrix Training set\n"
     ]
    },
    {
     "data": {
      "image/png": "[encoded data removed]",
      "text/plain": [
       "<matplotlib.figure.Figure at 0x152bbf902e8>"
      ]
     },
     "metadata": {},
     "output_type": "display_data"
    },
    {
     "name": "stdout",
     "output_type": "stream",
     "text": [
      "Confusion Matrix Test set\n"
     ]
    },
    {
     "data": {
      "image/png": "[encoded data removed]",
      "text/plain": [
       "<matplotlib.figure.Figure at 0x152bd103630>"
      ]
     },
     "metadata": {},
     "output_type": "display_data"
    },
    {
     "name": "stdout",
     "output_type": "stream",
     "text": [
      "=================On test set=================\n",
      "Accuracy   : 0.9375\n",
      "Precision  : 0.907894736842\n",
      "Recall     : 0.663461538462\n",
      "F1 Score   : 0.766666666667\n"
     ]
    }
   ],
   "source": [
    "run_dnn(df1_train, df1_test, 'adam',0.000001, (12,12,12,6), 500, 25)"
   ]
  },
  {
   "cell_type": "markdown",
   "metadata": {},
   "source": [
    "solver='lbfgs', alpha=1e-5, hidden_layer_sizes=(12,20,10), max_iter=500 **Accuracy   : 0.912202380952**\n",
    "\n",
    "solver='lbfgs', alpha=0.001, hidden_layer_sizes=(100,100,100,100), max_iter=1000 **Accuracy   : 0.907738095238**\n",
    "\n",
    "solver='lbfgs', alpha=0.000001, hidden_layer_sizes=(100,100,100,100), max_iter=1000 **Accuracy   : 0.912202380952**\n",
    "\n",
    "solver='adam', alpha=0.000001, hidden_layer_sizes=(100,100,100,100), max_iter=1000 **Accuracy   : 0.915178571429**\n",
    "\n",
    "solver='adam', alpha=0.000001, hidden_layer_sizes=(1000,1000,100,100,100), max_iter=1000 **Accuracy   : 0.925595238095**\n",
    "\n",
    "solver='adam', alpha=0.000001, hidden_layer_sizes=(12,12,12,10,2), max_iter=1000 \n",
    "* **Accuracy   : 0.93005952381**\n",
    "* **Accuracy   : 0.927083333333**\n",
    "* **Accuracy   : 0.912202380952**\n",
    "\n",
    "solver='adam', alpha=0.000001, hidden_layer_sizes=(12,12,12,10,10), max_iter=1000 \n",
    "* **Accuracy   : 0.93005952381**\n",
    "* **Accuracy   : 0.918154761905**\n",
    "* **Accuracy   : 0.909226190476**\n",
    "\n",
    "solver='adam', alpha=0.000001, hidden_layer_sizes=(12,12,12,6), max_iter=1000 \n",
    "* **Accuracy   : 0.933035714286**\n",
    "* **Accuracy   : 0.921130952381**\n",
    "* **Accuracy   : 0.9107142857**"
   ]
  },
  {
   "cell_type": "markdown",
   "metadata": {},
   "source": [
    "Random state\n",
    "\n",
    "* 1 0.91369047619\n",
    "* 2 0.922619047619\n",
    "* 3 0.925595238095\n",
    "* 4 0.924107142857\n",
    "* 5 0.924107142857\n",
    "* 6 0.91369047619\n",
    "* 7 0.91369047619\n",
    "* 8 0.922619047619\n",
    "* 9 0.921130952381\n",
    "* 10 \n",
    "* 11 0.927083333333\n",
    "* 12 0.936011904762\n",
    "* 13\n",
    "* \n",
    "* 16 0.931547619048\n",
    "* \n",
    "* 22 0.93005952381\n",
    "\n",
    "* **25,26,53 = 0.9375**"
   ]
  },
  {
   "cell_type": "code",
   "execution_count": 12,
   "metadata": {
    "scrolled": true
   },
   "outputs": [
    {
     "name": "stderr",
     "output_type": "stream",
     "text": [
      "F:\\Anaconda3\\lib\\site-packages\\sklearn\\neural_network\\multilayer_perceptron.py:912: DataConversionWarning: A column-vector y was passed when a 1d array was expected. Please change the shape of y to (n_samples, ), for example using ravel().\n",
      "  y = column_or_1d(y, warn=True)\n"
     ]
    },
    {
     "name": "stdout",
     "output_type": "stream",
     "text": [
      "MLPClassifier(activation='relu', alpha=1e-06, batch_size='auto', beta_1=0.9,\n",
      "       beta_2=0.999, early_stopping=False, epsilon=1e-08,\n",
      "       hidden_layer_sizes=(12, 12, 12, 6), learning_rate='constant',\n",
      "       learning_rate_init=0.001, max_iter=500, momentum=0.9,\n",
      "       nesterovs_momentum=True, power_t=0.5, random_state=None,\n",
      "       shuffle=True, solver='adam', tol=0.0001, validation_fraction=0.1,\n",
      "       verbose=False, warm_start=False)\n",
      "Confusion Matrix Training set\n"
     ]
    },
    {
     "data": {
      "image/png": "[encoded data removed]",
      "text/plain": [
       "<matplotlib.figure.Figure at 0x218876fab00>"
      ]
     },
     "metadata": {},
     "output_type": "display_data"
    },
    {
     "name": "stdout",
     "output_type": "stream",
     "text": [
      "Confusion Matrix Test set\n"
     ]
    },
    {
     "data": {
      "image/png": "[encoded data removed]",
      "text/plain": [
       "<matplotlib.figure.Figure at 0x218877b0b38>"
      ]
     },
     "metadata": {},
     "output_type": "display_data"
    },
    {
     "name": "stdout",
     "output_type": "stream",
     "text": [
      "=================On test set=================\n",
      "Accuracy   : 0.922619047619\n",
      "Precision  : 0.76\n",
      "Recall     : 0.730769230769\n",
      "F1 Score   : 0.745098039216\n"
     ]
    }
   ],
   "source": [
    "run_dnn(df1_train.drop([\"account length\"], axis = 1),\n",
    "        df1_test.drop([\"account length\"], axis = 1),\n",
    "        'adam',0.000001, (12,12,12,6), 500)"
   ]
  },
  {
   "cell_type": "code",
   "execution_count": null,
   "metadata": {
    "collapsed": true
   },
   "outputs": [],
   "source": []
  },
  {
   "cell_type": "code",
   "execution_count": null,
   "metadata": {
    "collapsed": true
   },
   "outputs": [],
   "source": []
  },
  {
   "cell_type": "code",
   "execution_count": null,
   "metadata": {
    "collapsed": true
   },
   "outputs": [],
   "source": []
  },
  {
   "cell_type": "code",
   "execution_count": null,
   "metadata": {
    "collapsed": true
   },
   "outputs": [],
   "source": []
  },
  {
   "cell_type": "code",
   "execution_count": null,
   "metadata": {
    "collapsed": true
   },
   "outputs": [],
   "source": []
  }
 ],
 "metadata": {
  "kernelspec": {
   "display_name": "Python 3",
   "language": "python",
   "name": "python3"
  },
  "language_info": {
   "codemirror_mode": {
    "name": "ipython",
    "version": 3
   },
   "file_extension": ".py",
   "mimetype": "text/x-python",
   "name": "python",
   "nbconvert_exporter": "python",
   "pygments_lexer": "ipython3",
   "version": "3.6.2"
  }
 },
 "nbformat": 4,
 "nbformat_minor": 2
}
