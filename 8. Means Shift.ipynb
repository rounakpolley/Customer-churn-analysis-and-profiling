{
 "cells": [
  {
   "cell_type": "code",
   "execution_count": 4,
   "metadata": {
    "collapsed": true
   },
   "outputs": [],
   "source": [
    "import pandas as pd\n",
    "import numpy as np\n",
    "import matplotlib.pyplot as plt\n",
    "\n",
    "from collections import Counter\n",
    "from itertools import combinations \n",
    "from sklearn.cluster import MeanShift\n",
    "from sklearn.preprocessing import scale"
   ]
  },
  {
   "cell_type": "code",
   "execution_count": 3,
   "metadata": {},
   "outputs": [],
   "source": [
    "df1           = pd.read_pickle(\"./ds1_trans.pkl\")\n",
    "df2           = pd.read_pickle(\"./ds2_trans.pkl\")\n",
    "df1_churn     = pd.read_pickle(\"./df1_churn.pkl\")\n",
    "df2_churn     = pd.read_pickle(\"./df2_churn.pkl\")\n",
    "df1_not_churn = pd.read_pickle(\"./df1_not_churn.pkl\")\n",
    "df2_not_churn = pd.read_pickle(\"./df2_not_churn.pkl\")"
   ]
  },
  {
   "cell_type": "markdown",
   "metadata": {},
   "source": [
    "**Steps**\n",
    "* Each clustering to be done with and without scalling so as to determine which gives better result\n",
    "* Clustering whole datasets\n",
    "* Clustering the churn and non-churn datasets"
   ]
  },
  {
   "cell_type": "code",
   "execution_count": 11,
   "metadata": {},
   "outputs": [
    {
     "data": {
      "text/plain": [
       "array([   0,    1,    2, ..., 3330, 3331, 3332], dtype=int64)"
      ]
     },
     "execution_count": 11,
     "metadata": {},
     "output_type": "execute_result"
    }
   ],
   "source": [
    "clustering = MeanShift(bandwidth=10)\n",
    "clustering.fit(df1)\n",
    "clustering.labels_"
   ]
  },
  {
   "cell_type": "code",
   "execution_count": 10,
   "metadata": {},
   "outputs": [
    {
     "data": {
      "text/plain": [
       "array([0, 0, 0, ..., 0, 0, 0], dtype=int64)"
      ]
     },
     "execution_count": 10,
     "metadata": {},
     "output_type": "execute_result"
    }
   ],
   "source": [
    "def run_MeanShift(df, try_no_clusters, scale):\n",
    "    if(scale == True):\n",
    "        dfx = scale(df)\n",
    "    else:\n",
    "        dfx = df\n",
    "    col_names   = df.columns\n",
    "    all_comb    = list(combinations(col_names, 2))\n",
    "    color_theme = np.array(['red','green','blue','yellow','black','pink','orange','brown'])\n",
    "    clustering = KMeans(n_clusters=try_no_clusters)\n",
    "    clustering.fit(dfx)\n",
    "    print(clustering)\n",
    "    #permutate over all colummns !!!\n",
    "    for i in range(len(all_comb)):\n",
    "        plt.scatter(x=df[all_comb[i][0]], y=df[all_comb[i][1]], c=color_theme[clustering.labels_],s=10)\n",
    "        plt.show()\n",
    "    return clustering"
   ]
  }
 ],
 "metadata": {
  "kernelspec": {
   "display_name": "Python 3",
   "language": "python",
   "name": "python3"
  },
  "language_info": {
   "codemirror_mode": {
    "name": "ipython",
    "version": 3
   },
   "file_extension": ".py",
   "mimetype": "text/x-python",
   "name": "python",
   "nbconvert_exporter": "python",
   "pygments_lexer": "ipython3",
   "version": "3.6.2"
  }
 },
 "nbformat": 4,
 "nbformat_minor": 2
}
